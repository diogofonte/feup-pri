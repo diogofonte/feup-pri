{
 "cells": [
  {
   "cell_type": "markdown",
   "metadata": {},
   "source": [
    "# **Information Processing and Retrieval**\n",
    "\n",
    "**Project developed by:**\n",
    "- Diogo Fonte - up202004175\n",
    "- Rodrigo Figueiredo - up202005216\n",
    "- Sofia Rodrigo  - up202301429\n",
    "- Vítor Cavaleiro - up202004724\n",
    "\n",
    "## **Environment Setup**"
   ]
  },
  {
   "cell_type": "code",
   "execution_count": 31,
   "metadata": {},
   "outputs": [],
   "source": [
    "import pandas as pd\n",
    "import numpy as np\n",
    "import os\n",
    "import json"
   ]
  },
  {
   "cell_type": "markdown",
   "metadata": {},
   "source": [
    "# Data Preparation"
   ]
  },
  {
   "cell_type": "markdown",
   "metadata": {},
   "source": [
    "## Data Ingestion\n",
    "\n",
    "### All The News - Collection of Articles from 18 publishers"
   ]
  },
  {
   "cell_type": "code",
   "execution_count": 32,
   "metadata": {},
   "outputs": [],
   "source": [
    "# the original file is a .db file, which was exported as a json file using the sqlite studio\n",
    "\n",
    "# get table with rows and columns\n",
    "f = open(\"../data/all-the-news/all-the-news-conv.json\", encoding=\"utf8\")\n",
    "data = json.load(f)\n",
    "table = data[\"objects\"][0]\n",
    "\n",
    "# get rows and columns\n",
    "columns = table[\"columns\"]\n",
    "rows = table[\"rows\"]\n",
    "\n",
    "# get column names\n",
    "column_names = []\n",
    "for column in columns:\n",
    "    column_names.append(column[\"name\"])\n",
    "\n",
    "# Create resulting dictionary\n",
    "result = {}\n",
    "for column_name in column_names:\n",
    "    result[column_name] = []\n",
    "\n",
    "# get rows\n",
    "for row in rows:\n",
    "    for i in range(len(column_names)):\n",
    "        result[column_names[i]].append(row[i])\n",
    "\n",
    "pd.DataFrame.from_dict(result).to_csv('all_the_news.csv', encoding='utf-8')"
   ]
  },
  {
   "cell_type": "code",
   "execution_count": 33,
   "metadata": {},
   "outputs": [
    {
     "name": "stderr",
     "output_type": "stream",
     "text": [
      "/var/folders/rt/q384_8sj09jb4492q7qhz1sh0000gn/T/ipykernel_74737/1132100165.py:1: DtypeWarning: Columns (0,1,11,12) have mixed types. Specify dtype option on import or set low_memory=False.\n",
      "  all_the_news = pd.read_csv('all_the_news.csv', encoding='utf-8')\n"
     ]
    },
    {
     "data": {
      "text/plain": [
       "Unnamed: 0          0\n",
       "id                  0\n",
       "title               5\n",
       "author          54071\n",
       "date            34274\n",
       "content         37072\n",
       "year            34274\n",
       "month           34274\n",
       "publication     29384\n",
       "category        57091\n",
       "digital         32689\n",
       "section        151232\n",
       "url            127008\n",
       "dtype: int64"
      ]
     },
     "execution_count": 33,
     "metadata": {},
     "output_type": "execute_result"
    }
   ],
   "source": [
    "all_the_news = pd.read_csv('all_the_news.csv', encoding='utf-8')\n",
    "all_the_news.isna().sum()"
   ]
  },
  {
   "cell_type": "code",
   "execution_count": 34,
   "metadata": {},
   "outputs": [
    {
     "data": {
      "text/html": [
       "<div>\n",
       "<style scoped>\n",
       "    .dataframe tbody tr th:only-of-type {\n",
       "        vertical-align: middle;\n",
       "    }\n",
       "\n",
       "    .dataframe tbody tr th {\n",
       "        vertical-align: top;\n",
       "    }\n",
       "\n",
       "    .dataframe thead th {\n",
       "        text-align: right;\n",
       "    }\n",
       "</style>\n",
       "<table border=\"1\" class=\"dataframe\">\n",
       "  <thead>\n",
       "    <tr style=\"text-align: right;\">\n",
       "      <th></th>\n",
       "      <th>title</th>\n",
       "      <th>author</th>\n",
       "      <th>date</th>\n",
       "      <th>content</th>\n",
       "      <th>publisher</th>\n",
       "      <th>category</th>\n",
       "      <th>url</th>\n",
       "    </tr>\n",
       "  </thead>\n",
       "  <tbody>\n",
       "    <tr>\n",
       "      <th>0</th>\n",
       "      <td>Agent Cooper in Twin Peaks is the audience: on...</td>\n",
       "      <td>\\nTasha Robinson\\n</td>\n",
       "      <td>2017-05-31</td>\n",
       "      <td>And never more so than in Showtime’s new...</td>\n",
       "      <td>Verge</td>\n",
       "      <td>Longform</td>\n",
       "      <td>NaN</td>\n",
       "    </tr>\n",
       "    <tr>\n",
       "      <th>1</th>\n",
       "      <td>AI, the humanity!</td>\n",
       "      <td>\\nSam Byford\\n</td>\n",
       "      <td>2017-05-30</td>\n",
       "      <td>AlphaGo’s victory isn’t a defeat for hum...</td>\n",
       "      <td>Verge</td>\n",
       "      <td>Longform</td>\n",
       "      <td>NaN</td>\n",
       "    </tr>\n",
       "    <tr>\n",
       "      <th>2</th>\n",
       "      <td>The Viral Machine</td>\n",
       "      <td>\\nKaitlyn Tiffany\\n</td>\n",
       "      <td>2017-05-25</td>\n",
       "      <td>Super Deluxe built a weird internet empi...</td>\n",
       "      <td>Verge</td>\n",
       "      <td>Longform</td>\n",
       "      <td>NaN</td>\n",
       "    </tr>\n",
       "    <tr>\n",
       "      <th>3</th>\n",
       "      <td>How Anker is beating Apple and Samsung at thei...</td>\n",
       "      <td>\\nNick Statt\\n</td>\n",
       "      <td>2017-05-22</td>\n",
       "      <td>Steven Yang quit his job at Google in th...</td>\n",
       "      <td>Verge</td>\n",
       "      <td>Longform</td>\n",
       "      <td>NaN</td>\n",
       "    </tr>\n",
       "    <tr>\n",
       "      <th>4</th>\n",
       "      <td>Tour Black Panther’s reimagined homeland with ...</td>\n",
       "      <td>\\nKwame Opam\\n</td>\n",
       "      <td>2017-05-15</td>\n",
       "      <td>Ahead of Black Panther’s 2018 theatrical...</td>\n",
       "      <td>Verge</td>\n",
       "      <td>Longform</td>\n",
       "      <td>NaN</td>\n",
       "    </tr>\n",
       "  </tbody>\n",
       "</table>\n",
       "</div>"
      ],
      "text/plain": [
       "                                               title               author  \\\n",
       "0  Agent Cooper in Twin Peaks is the audience: on...   \\nTasha Robinson\\n   \n",
       "1                                  AI, the humanity!       \\nSam Byford\\n   \n",
       "2                                  The Viral Machine  \\nKaitlyn Tiffany\\n   \n",
       "3  How Anker is beating Apple and Samsung at thei...       \\nNick Statt\\n   \n",
       "4  Tour Black Panther’s reimagined homeland with ...       \\nKwame Opam\\n   \n",
       "\n",
       "         date                                            content publisher  \\\n",
       "0  2017-05-31        And never more so than in Showtime’s new...     Verge   \n",
       "1  2017-05-30        AlphaGo’s victory isn’t a defeat for hum...     Verge   \n",
       "2  2017-05-25        Super Deluxe built a weird internet empi...     Verge   \n",
       "3  2017-05-22        Steven Yang quit his job at Google in th...     Verge   \n",
       "4  2017-05-15        Ahead of Black Panther’s 2018 theatrical...     Verge   \n",
       "\n",
       "   category  url  \n",
       "0  Longform  NaN  \n",
       "1  Longform  NaN  \n",
       "2  Longform  NaN  \n",
       "3  Longform  NaN  \n",
       "4  Longform  NaN  "
      ]
     },
     "execution_count": 34,
     "metadata": {},
     "output_type": "execute_result"
    }
   ],
   "source": [
    "# Drops irrelevant columns\n",
    "all_the_news = all_the_news.drop(columns=['Unnamed: 0', 'id', 'year', 'month', 'digital', 'section'])\n",
    "all_the_news = all_the_news.rename(columns={\"publication\": \"publisher\"})\n",
    "all_the_news.head()"
   ]
  },
  {
   "cell_type": "code",
   "execution_count": 35,
   "metadata": {},
   "outputs": [
    {
     "name": "stdout",
     "output_type": "stream",
     "text": [
      "Number of rows:  225804\n"
     ]
    }
   ],
   "source": [
    "rows_count = all_the_news.shape[0]\n",
    "print(\"Number of rows: \", rows_count)"
   ]
  },
  {
   "cell_type": "markdown",
   "metadata": {},
   "source": [
    "### BBC News"
   ]
  },
  {
   "cell_type": "code",
   "execution_count": 36,
   "metadata": {},
   "outputs": [
    {
     "data": {
      "text/html": [
       "<div>\n",
       "<style scoped>\n",
       "    .dataframe tbody tr th:only-of-type {\n",
       "        vertical-align: middle;\n",
       "    }\n",
       "\n",
       "    .dataframe tbody tr th {\n",
       "        vertical-align: top;\n",
       "    }\n",
       "\n",
       "    .dataframe thead th {\n",
       "        text-align: right;\n",
       "    }\n",
       "</style>\n",
       "<table border=\"1\" class=\"dataframe\">\n",
       "  <thead>\n",
       "    <tr style=\"text-align: right;\">\n",
       "      <th></th>\n",
       "      <th>title</th>\n",
       "      <th>author</th>\n",
       "      <th>date</th>\n",
       "      <th>content</th>\n",
       "      <th>publisher</th>\n",
       "      <th>category</th>\n",
       "      <th>url</th>\n",
       "    </tr>\n",
       "  </thead>\n",
       "  <tbody>\n",
       "    <tr>\n",
       "      <th>0</th>\n",
       "      <td>Musicians to tackle US red tape</td>\n",
       "      <td>NaN</td>\n",
       "      <td>2005-12-31</td>\n",
       "      <td>Musicians' groups are to tackle US visa regula...</td>\n",
       "      <td>BBC</td>\n",
       "      <td>entertainment</td>\n",
       "      <td>NaN</td>\n",
       "    </tr>\n",
       "    <tr>\n",
       "      <th>1</th>\n",
       "      <td>U2's desire to be number one</td>\n",
       "      <td>NaN</td>\n",
       "      <td>2005-12-31</td>\n",
       "      <td>U2, who have won three prestigious Grammy Awar...</td>\n",
       "      <td>BBC</td>\n",
       "      <td>entertainment</td>\n",
       "      <td>NaN</td>\n",
       "    </tr>\n",
       "    <tr>\n",
       "      <th>2</th>\n",
       "      <td>Rocker Doherty in on-stage fight</td>\n",
       "      <td>NaN</td>\n",
       "      <td>2005-12-31</td>\n",
       "      <td>Rock singer Pete Doherty has been involved in ...</td>\n",
       "      <td>BBC</td>\n",
       "      <td>entertainment</td>\n",
       "      <td>NaN</td>\n",
       "    </tr>\n",
       "    <tr>\n",
       "      <th>3</th>\n",
       "      <td>Snicket tops US box office chart</td>\n",
       "      <td>NaN</td>\n",
       "      <td>2005-12-31</td>\n",
       "      <td>The film adaptation of Lemony Snicket novels h...</td>\n",
       "      <td>BBC</td>\n",
       "      <td>entertainment</td>\n",
       "      <td>NaN</td>\n",
       "    </tr>\n",
       "    <tr>\n",
       "      <th>4</th>\n",
       "      <td>Ocean's Twelve raids box office</td>\n",
       "      <td>NaN</td>\n",
       "      <td>2005-12-31</td>\n",
       "      <td>Ocean's Twelve, the crime caper sequel starrin...</td>\n",
       "      <td>BBC</td>\n",
       "      <td>entertainment</td>\n",
       "      <td>NaN</td>\n",
       "    </tr>\n",
       "  </tbody>\n",
       "</table>\n",
       "</div>"
      ],
      "text/plain": [
       "                              title  author        date  \\\n",
       "0   Musicians to tackle US red tape     NaN  2005-12-31   \n",
       "1      U2's desire to be number one     NaN  2005-12-31   \n",
       "2  Rocker Doherty in on-stage fight     NaN  2005-12-31   \n",
       "3  Snicket tops US box office chart     NaN  2005-12-31   \n",
       "4   Ocean's Twelve raids box office     NaN  2005-12-31   \n",
       "\n",
       "                                             content publisher       category  \\\n",
       "0  Musicians' groups are to tackle US visa regula...       BBC  entertainment   \n",
       "1  U2, who have won three prestigious Grammy Awar...       BBC  entertainment   \n",
       "2  Rock singer Pete Doherty has been involved in ...       BBC  entertainment   \n",
       "3  The film adaptation of Lemony Snicket novels h...       BBC  entertainment   \n",
       "4  Ocean's Twelve, the crime caper sequel starrin...       BBC  entertainment   \n",
       "\n",
       "   url  \n",
       "0  NaN  \n",
       "1  NaN  \n",
       "2  NaN  \n",
       "3  NaN  \n",
       "4  NaN  "
      ]
     },
     "execution_count": 36,
     "metadata": {},
     "output_type": "execute_result"
    }
   ],
   "source": [
    "main_folder = \"../data/bbc_news_collection/\"\n",
    "news = []\n",
    "\n",
    "# Iterate through subfolders of the 5 categories (business, entertainment, politics, sport, tech)\n",
    "for subfolder in os.listdir(main_folder):\n",
    "    subfolder_path = os.path.join(main_folder, subfolder)\n",
    "    \n",
    "    if os.path.isdir(subfolder_path):\n",
    "        for filename in os.listdir(subfolder_path):\n",
    "            if filename.endswith(\".txt\"):\n",
    "                with open(os.path.join(subfolder_path, filename), \"r\", encoding=\"utf-8\") as file:\n",
    "                    lines = file.readlines()\n",
    "                    title = lines[0].strip()  # Read the first line as the title\n",
    "                    author = np.nan  # No author information\n",
    "                    date = \"2005-12-31\"\n",
    "                    content = \"\".join(lines[1:]).replace(\"\\n\", \" \").strip()  # Read the rest as content\n",
    "                    publisher = \"BBC\"\n",
    "                    category = subfolder\n",
    "                    url = np.nan\n",
    "\n",
    "                    aux = pd.DataFrame({\"title\": [title], \"author\": [author], \"date\": [date],\n",
    "                                        \"content\": [content], \"publisher\": [publisher], \"category\": [category],\n",
    "                                        \"url\": [url]})\n",
    "                    news.append(aux)\n",
    "\n",
    "bbc_news = pd.concat(news, ignore_index=True)\n",
    "bbc_news.to_csv(\"BBC_articles.csv\", index=False)\n",
    "bbc_news.head()"
   ]
  },
  {
   "cell_type": "code",
   "execution_count": 37,
   "metadata": {},
   "outputs": [
    {
     "name": "stdout",
     "output_type": "stream",
     "text": [
      "Number of rows:  2225\n"
     ]
    }
   ],
   "source": [
    "rows_count_bbc = bbc_news.shape[0]\n",
    "print(\"Number of rows: \", rows_count_bbc)"
   ]
  },
  {
   "cell_type": "markdown",
   "metadata": {},
   "source": [
    "## Merge of Datasets"
   ]
  },
  {
   "cell_type": "markdown",
   "metadata": {},
   "source": []
  }
 ],
 "metadata": {
  "kernelspec": {
   "display_name": "base",
   "language": "python",
   "name": "python3"
  },
  "language_info": {
   "codemirror_mode": {
    "name": "ipython",
    "version": 3
   },
   "file_extension": ".py",
   "mimetype": "text/x-python",
   "name": "python",
   "nbconvert_exporter": "python",
   "pygments_lexer": "ipython3",
   "version": "3.9.13"
  },
  "orig_nbformat": 4
 },
 "nbformat": 4,
 "nbformat_minor": 2
}
